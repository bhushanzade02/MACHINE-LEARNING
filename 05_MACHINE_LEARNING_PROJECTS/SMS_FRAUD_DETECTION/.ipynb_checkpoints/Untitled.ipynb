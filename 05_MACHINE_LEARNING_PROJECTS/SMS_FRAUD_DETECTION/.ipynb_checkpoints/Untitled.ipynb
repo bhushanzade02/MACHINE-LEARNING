{
 "cells": [
  {
   "cell_type": "code",
   "execution_count": 3,
   "id": "1dfe2ea1-c964-49ec-a169-843f604b35b8",
   "metadata": {},
   "outputs": [
    {
     "name": "stdout",
     "output_type": "stream",
     "text": [
      "<module 'my_ml_library' from 'D:\\\\my_ml_library\\\\my_ml_library\\\\__init__.py'>\n"
     ]
    }
   ],
   "source": [
    "import my_ml_library\n",
    "print(my_ml_library)\n"
   ]
  },
  {
   "cell_type": "code",
   "execution_count": 27,
   "id": "90e5cb8a-0840-454a-96ec-07fccd8f7508",
   "metadata": {},
   "outputs": [],
   "source": [
    "import numpy as np\n",
    "import pandas as pd\n",
    "from my_ml_library.models import SimpleLinearRegression\n",
    "from my_ml_library.metrics import mean_squared_error, mean_absolute_error, r2_score\n"
   ]
  },
  {
   "cell_type": "code",
   "execution_count": 28,
   "id": "db276866-2aa8-403b-afb5-fd03a8b714f7",
   "metadata": {},
   "outputs": [
    {
     "name": "stdout",
     "output_type": "stream",
     "text": [
      "Predictions: [1.8 3.8 5.8 7.8 9.8]\n",
      "MSE: 0.15999999999999992\n",
      "MAE: 0.31999999999999995\n",
      "R2 Score: 0.9803921568627451\n"
     ]
    }
   ],
   "source": [
    "X = np.array([[1], [2], [3], [4], [5]])\n",
    "y = np.array([2, 4, 5, 8, 10])\n",
    "model = SimpleLinearRegression()\n",
    "model.fit(X, y)\n",
    "y_pred = model.predict(X)\n",
    "print(\"Predictions:\", y_pred)\n",
    "print(\"MSE:\", mean_squared_error(y, y_pred))\n",
    "print(\"MAE:\", mean_absolute_error(y, y_pred))\n",
    "print(\"R2 Score:\", r2_score(y, y_pred))"
   ]
  },
  {
   "cell_type": "code",
   "execution_count": 6,
   "id": "80fdab1e-af24-4e32-a811-e984cbf21daf",
   "metadata": {},
   "outputs": [
    {
     "name": "stdout",
     "output_type": "stream",
     "text": [
      "Python 3.13.0\n"
     ]
    }
   ],
   "source": [
    "!python --version"
   ]
  },
  {
   "cell_type": "code",
   "execution_count": null,
   "id": "8a5c2884-d015-49e3-b379-98ea679dc0cb",
   "metadata": {},
   "outputs": [],
   "source": []
  },
  {
   "cell_type": "code",
   "execution_count": null,
   "id": "67671ed5-5447-42ba-bc90-882f41446027",
   "metadata": {},
   "outputs": [],
   "source": []
  },
  {
   "cell_type": "code",
   "execution_count": null,
   "id": "9e9e0653-b70d-48ea-9e4c-67a4b799043c",
   "metadata": {},
   "outputs": [],
   "source": []
  },
  {
   "cell_type": "code",
   "execution_count": null,
   "id": "ff7ebc3e-6350-4868-a6cf-96e89f1475ec",
   "metadata": {},
   "outputs": [],
   "source": []
  },
  {
   "cell_type": "code",
   "execution_count": null,
   "id": "f49c6ac9-c4ca-44ba-9c26-9eeda9daa4b0",
   "metadata": {},
   "outputs": [],
   "source": []
  },
  {
   "cell_type": "code",
   "execution_count": null,
   "id": "403242fe-a708-410e-afc1-07e9e68f53a5",
   "metadata": {},
   "outputs": [],
   "source": []
  },
  {
   "cell_type": "code",
   "execution_count": null,
   "id": "6b5d95b8-6db9-497f-a147-cf35267b3ab9",
   "metadata": {},
   "outputs": [],
   "source": []
  },
  {
   "cell_type": "code",
   "execution_count": null,
   "id": "b0a467a8-c3d0-4264-93c2-a55545786cb6",
   "metadata": {},
   "outputs": [],
   "source": []
  },
  {
   "cell_type": "code",
   "execution_count": null,
   "id": "5f3343bc-8137-4979-9274-f6414dcab744",
   "metadata": {},
   "outputs": [],
   "source": []
  },
  {
   "cell_type": "code",
   "execution_count": 25,
   "id": "2a8b534d-7852-415b-a710-b450d79a6449",
   "metadata": {},
   "outputs": [],
   "source": [
    "from sklearn.datasets import make_regression\n",
    "X,y=make_regression(n_samples=100 , n_features=2,n_informative=2, n_targets=1, noise=50)\n",
    "df=pd.DataFrame({'feature1':X[:,0],'feature2':X[:,1],'target':y})\n",
    "from sklearn.model_selection import train_test_split \n",
    "X_train,X_test,y_train,y_test=train_test_split(X,y,test_size=0.2,random_state=3)\n",
    "mlr=MultipleLinearRegression()\n",
    "mlr.fit(X_train,y_train)\n",
    "y_pred=mlr.predict(X_test)"
   ]
  },
  {
   "cell_type": "code",
   "execution_count": 26,
   "id": "7d2c7a4e-d3fa-41be-a2f6-c2e1c0098c8a",
   "metadata": {},
   "outputs": [
    {
     "name": "stdout",
     "output_type": "stream",
     "text": [
      "mae 37.01117717186196\n",
      "mse 1830.863591951563\n",
      "r2 score 0.8794115096052698\n"
     ]
    }
   ],
   "source": [
    "from sklearn.metrics import mean_absolute_error,r2_score,mean_squared_error\n",
    "print('mae',mean_absolute_error(y_test,y_pred))\n",
    "print('mse',mean_squared_error(y_test,y_pred))\n",
    "print(\"r2 score\",r2_score(y_test,y_pred))"
   ]
  },
  {
   "cell_type": "code",
   "execution_count": null,
   "id": "c8184b7d-74a0-4330-8018-6fdba1f3e827",
   "metadata": {},
   "outputs": [],
   "source": []
  }
 ],
 "metadata": {
  "kernelspec": {
   "display_name": "Python 3 (ipykernel)",
   "language": "python",
   "name": "python3"
  },
  "language_info": {
   "codemirror_mode": {
    "name": "ipython",
    "version": 3
   },
   "file_extension": ".py",
   "mimetype": "text/x-python",
   "name": "python",
   "nbconvert_exporter": "python",
   "pygments_lexer": "ipython3",
   "version": "3.13.0"
  }
 },
 "nbformat": 4,
 "nbformat_minor": 5
}
