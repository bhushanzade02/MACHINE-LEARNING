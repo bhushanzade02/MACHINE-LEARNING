{
 "cells": [
  {
   "cell_type": "markdown",
   "id": "4a55a5eb-9913-4a25-ba40-982cc0c38b22",
   "metadata": {},
   "source": [
    "# R2 SCORE "
   ]
  },
  {
   "cell_type": "code",
   "execution_count": 45,
   "id": "ae56b442-dbc2-4fde-ab1c-49d909b30643",
   "metadata": {},
   "outputs": [
    {
     "name": "stdout",
     "output_type": "stream",
     "text": [
      "r2 score is0.9955066550082581\n"
     ]
    }
   ],
   "source": [
    "from sklearn.metrics import r2_score\n",
    "y_actual = [3.0, 2.5, 4.2, 5.1, 6.3, 7.8, 8.0, 9.2, 10.5, 11.0]\n",
    "y_pred = [2.8, 2.7, 4.0, 5.3, 6.1, 7.9, 8.2, 9.0, 10.3, 11.2]\n",
    "r2=r2_score(y_actual,y_pred)\n",
    "print(f\"r2 score is{r2}\")\n"
   ]
  },
  {
   "cell_type": "markdown",
   "id": "367879ea-4c05-47ce-8ff6-b5bcb1e0c27d",
   "metadata": {},
   "source": [
    "## now r2 score "
   ]
  },
  {
   "cell_type": "code",
   "execution_count": 44,
   "id": "b5da9705-670d-4fd5-a1dd-bf1db3939370",
   "metadata": {},
   "outputs": [
    {
     "name": "stdout",
     "output_type": "stream",
     "text": [
      "0.9955066550082581\n"
     ]
    }
   ],
   "source": [
    "y_actual = [3.0, 2.5, 4.2, 5.1, 6.3, 7.8, 8.0, 9.2, 10.5, 11.0]\n",
    "y_pred = [2.8, 2.7, 4.0, 5.3, 6.1, 7.9, 8.2, 9.0, 10.3, 11.2]\n",
    "\n",
    "\n",
    "y_mean=sum(y_actual)/len(y_actual)\n",
    "\n",
    "ssr=sum((y_actual[i]-y_pred[i])**2 for i in range (len(y_actual)))\n",
    "ssm=sum((y_actual[i]-y_mean)**2 for i in range (len(y_actual)))\n",
    "r2score=1-(ssr/ssm)\n",
    "print(f\"{r2score}\")"
   ]
  },
  {
   "cell_type": "markdown",
   "id": "df3b6812-7e69-487e-b906-c4a7cad1e906",
   "metadata": {},
   "source": [
    "\n",
    "## using numpy "
   ]
  },
  {
   "cell_type": "code",
   "execution_count": 46,
   "id": "5470d433-ec76-48c9-8f59-8bdb48f5c504",
   "metadata": {},
   "outputs": [
    {
     "name": "stdout",
     "output_type": "stream",
     "text": [
      "0.9955066550082581\n"
     ]
    }
   ],
   "source": [
    "import numpy as np\n",
    "y_actual = [3.0, 2.5, 4.2, 5.1, 6.3, 7.8, 8.0, 9.2, 10.5, 11.0]\n",
    "y_pred = [2.8, 2.7, 4.0, 5.3, 6.1, 7.9, 8.2, 9.0, 10.3, 11.2]\n",
    "\n",
    "\n",
    "y_actual_np=np.array(y_actual)\n",
    "y_pred_np=np.array(y_pred)\n",
    "\n",
    "ssr_np=np.sum((y_actual_np-y_pred_np)**2)\n",
    "ssm_np=np.sum((y_actual_np-y_actual_np.mean())**2)\n",
    "r2score_np=1-(ssr_np/ssm_np)\n",
    "\n",
    "\n",
    "print(f\"{r2score_np}\")"
   ]
  },
  {
   "cell_type": "code",
   "execution_count": null,
   "id": "09b108fc-83ac-40ae-a03b-3d1e19caa79e",
   "metadata": {},
   "outputs": [],
   "source": []
  }
 ],
 "metadata": {
  "kernelspec": {
   "display_name": "Python 3 (ipykernel)",
   "language": "python",
   "name": "python3"
  },
  "language_info": {
   "codemirror_mode": {
    "name": "ipython",
    "version": 3
   },
   "file_extension": ".py",
   "mimetype": "text/x-python",
   "name": "python",
   "nbconvert_exporter": "python",
   "pygments_lexer": "ipython3",
   "version": "3.13.0"
  }
 },
 "nbformat": 4,
 "nbformat_minor": 5
}
