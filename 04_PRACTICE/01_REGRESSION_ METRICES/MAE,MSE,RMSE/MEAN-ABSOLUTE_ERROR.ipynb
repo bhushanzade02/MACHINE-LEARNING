{
 "cells": [
  {
   "cell_type": "code",
   "execution_count": 1,
   "id": "4a25fe0f-ad8e-48b5-8ae9-a1a04776d344",
   "metadata": {},
   "outputs": [],
   "source": [
    "y_actual = [3.0, 2.5, 4.2, 5.1, 6.3, 7.8, 8.0, 9.2, 10.5, 11.0]\n",
    "y_pred = [2.8, 2.7, 4.0, 5.3, 6.1, 7.9, 8.2, 9.0, 10.3, 11.2]\n"
   ]
  },
  {
   "cell_type": "code",
   "execution_count": 7,
   "id": "dc004600-4683-4c19-88f5-866fd0d01ef1",
   "metadata": {},
   "outputs": [],
   "source": [
    "mae=sum((y_actual[i]-y_pred[i])**2 for i in range( len(y_actual)))"
   ]
  },
  {
   "cell_type": "code",
   "execution_count": 8,
   "id": "b2b01d42-0a5c-4aa7-ab97-4911dfbff598",
   "metadata": {},
   "outputs": [
    {
     "data": {
      "text/plain": [
       "0.36999999999999933"
      ]
     },
     "execution_count": 8,
     "metadata": {},
     "output_type": "execute_result"
    }
   ],
   "source": [
    "mse"
   ]
  },
  {
   "cell_type": "code",
   "execution_count": null,
   "id": "4c4605ae-8b5a-4ffc-9e35-b7881812c0ed",
   "metadata": {},
   "outputs": [],
   "source": []
  }
 ],
 "metadata": {
  "kernelspec": {
   "display_name": "Python 3 (ipykernel)",
   "language": "python",
   "name": "python3"
  },
  "language_info": {
   "codemirror_mode": {
    "name": "ipython",
    "version": 3
   },
   "file_extension": ".py",
   "mimetype": "text/x-python",
   "name": "python",
   "nbconvert_exporter": "python",
   "pygments_lexer": "ipython3",
   "version": "3.13.0"
  }
 },
 "nbformat": 4,
 "nbformat_minor": 5
}
