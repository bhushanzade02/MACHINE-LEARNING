{
 "cells": [
  {
   "cell_type": "markdown",
   "id": "839d1095-2d9c-498b-a3db-42f0d6f4f737",
   "metadata": {},
   "source": [
    "# MULTIPLE LINEAR REGRESSION"
   ]
  },
  {
   "cell_type": "code",
   "execution_count": 101,
   "id": "72184b8e-a0ad-4678-aec4-cf91fb825e29",
   "metadata": {},
   "outputs": [],
   "source": [
    "import pandas as pd\n",
    "import numpy as np"
   ]
  },
  {
   "cell_type": "code",
   "execution_count": 114,
   "id": "23d9f7cd-f49f-475e-8a96-79e6b9ff3e83",
   "metadata": {
    "scrolled": true
   },
   "outputs": [
    {
     "name": "stdout",
     "output_type": "stream",
     "text": [
      "\n",
      "\n",
      "Dimension of Dataset (100000, 9)\n",
      "\n",
      "\n"
     ]
    },
    {
     "data": {
      "text/html": [
       "<div>\n",
       "<style scoped>\n",
       "    .dataframe tbody tr th:only-of-type {\n",
       "        vertical-align: middle;\n",
       "    }\n",
       "\n",
       "    .dataframe tbody tr th {\n",
       "        vertical-align: top;\n",
       "    }\n",
       "\n",
       "    .dataframe thead th {\n",
       "        text-align: right;\n",
       "    }\n",
       "</style>\n",
       "<table border=\"1\" class=\"dataframe\">\n",
       "  <thead>\n",
       "    <tr style=\"text-align: right;\">\n",
       "      <th></th>\n",
       "      <th>Cement</th>\n",
       "      <th>Blast Furnace Slag</th>\n",
       "      <th>Fly Ash</th>\n",
       "      <th>Water</th>\n",
       "      <th>Superplasticizer</th>\n",
       "      <th>Coarse Aggregate</th>\n",
       "      <th>Fine Aggregate</th>\n",
       "      <th>Age</th>\n",
       "      <th>Strength</th>\n",
       "    </tr>\n",
       "  </thead>\n",
       "  <tbody>\n",
       "    <tr>\n",
       "      <th>0</th>\n",
       "      <td>314.0</td>\n",
       "      <td>0.0</td>\n",
       "      <td>113.0</td>\n",
       "      <td>170.0</td>\n",
       "      <td>10.0</td>\n",
       "      <td>925.0</td>\n",
       "      <td>783.0</td>\n",
       "      <td>28</td>\n",
       "      <td>38.46</td>\n",
       "    </tr>\n",
       "    <tr>\n",
       "      <th>1</th>\n",
       "      <td>475.0</td>\n",
       "      <td>118.8</td>\n",
       "      <td>0.0</td>\n",
       "      <td>181.1</td>\n",
       "      <td>8.9</td>\n",
       "      <td>852.1</td>\n",
       "      <td>781.5</td>\n",
       "      <td>28</td>\n",
       "      <td>68.30</td>\n",
       "    </tr>\n",
       "    <tr>\n",
       "      <th>2</th>\n",
       "      <td>190.3</td>\n",
       "      <td>0.0</td>\n",
       "      <td>125.2</td>\n",
       "      <td>166.6</td>\n",
       "      <td>9.9</td>\n",
       "      <td>1079.0</td>\n",
       "      <td>798.9</td>\n",
       "      <td>100</td>\n",
       "      <td>33.56</td>\n",
       "    </tr>\n",
       "    <tr>\n",
       "      <th>3</th>\n",
       "      <td>246.8</td>\n",
       "      <td>0.0</td>\n",
       "      <td>125.1</td>\n",
       "      <td>143.3</td>\n",
       "      <td>12.0</td>\n",
       "      <td>1086.8</td>\n",
       "      <td>800.9</td>\n",
       "      <td>14</td>\n",
       "      <td>42.22</td>\n",
       "    </tr>\n",
       "    <tr>\n",
       "      <th>4</th>\n",
       "      <td>286.3</td>\n",
       "      <td>200.9</td>\n",
       "      <td>0.0</td>\n",
       "      <td>144.7</td>\n",
       "      <td>11.2</td>\n",
       "      <td>1004.6</td>\n",
       "      <td>803.7</td>\n",
       "      <td>3</td>\n",
       "      <td>24.40</td>\n",
       "    </tr>\n",
       "  </tbody>\n",
       "</table>\n",
       "</div>"
      ],
      "text/plain": [
       "   Cement  Blast Furnace Slag  Fly Ash  Water  Superplasticizer  \\\n",
       "0   314.0                 0.0    113.0  170.0              10.0   \n",
       "1   475.0               118.8      0.0  181.1               8.9   \n",
       "2   190.3                 0.0    125.2  166.6               9.9   \n",
       "3   246.8                 0.0    125.1  143.3              12.0   \n",
       "4   286.3               200.9      0.0  144.7              11.2   \n",
       "\n",
       "   Coarse Aggregate  Fine Aggregate  Age  Strength  \n",
       "0             925.0           783.0   28     38.46  \n",
       "1             852.1           781.5   28     68.30  \n",
       "2            1079.0           798.9  100     33.56  \n",
       "3            1086.8           800.9   14     42.22  \n",
       "4            1004.6           803.7    3     24.40  "
      ]
     },
     "execution_count": 114,
     "metadata": {},
     "output_type": "execute_result"
    }
   ],
   "source": [
    "#concrete data set\n",
    "df=pd.read_csv(r\"concrete_data_100k.csv\")\n",
    "\n",
    "df.head()\n",
    "X=df.iloc[:,0:8]\n",
    "y=df.iloc[:,-1]\n",
    "\n",
    "print(\"\\n\")\n",
    "\n",
    "print(\"Dimension of Dataset\",df.shape)\n",
    "\n",
    "print(\"\\n\")\n",
    "\n",
    "df.head()"
   ]
  },
  {
   "cell_type": "markdown",
   "id": "840071f3-f399-478f-b6a1-6b8c646b411c",
   "metadata": {
    "jupyter": {
     "source_hidden": true
    }
   },
   "source": [
    "## Train Test Split "
   ]
  },
  {
   "cell_type": "code",
   "execution_count": 115,
   "id": "43f54f39-f2b9-4eaf-a5b9-dbb60319ffe3",
   "metadata": {},
   "outputs": [],
   "source": [
    "from sklearn.model_selection import train_test_split\n",
    "X_train,X_test,y_train,y_test=train_test_split(X,y,random_state=2,test_size=0.2)"
   ]
  },
  {
   "cell_type": "markdown",
   "id": "e1428600-527e-456e-be42-133593a8fbb3",
   "metadata": {},
   "source": [
    "# Sklearn Implementation "
   ]
  },
  {
   "cell_type": "code",
   "execution_count": 116,
   "id": "30953253-7c81-4f51-ba7d-cb436bad1a13",
   "metadata": {},
   "outputs": [],
   "source": [
    "from sklearn.linear_model import LinearRegression\n",
    "lr=LinearRegression()\n",
    "lr.fit(X_train,y_train)\n",
    "y_pred=lr.predict(X_test)"
   ]
  },
  {
   "cell_type": "code",
   "execution_count": 117,
   "id": "e085c9d9-bcf3-4172-905c-c84d445fc188",
   "metadata": {},
   "outputs": [
    {
     "name": "stdout",
     "output_type": "stream",
     "text": [
      "R2 SCORE : 0.6235643963057703\n",
      "MEAN ABSOLUTE ERROR : 8.239439993895903\n",
      "MEAN SQUARED ERROR  : 107.51804962656549\n",
      "ROOT MEAN SQUARED ERROR  : 10.36909107041526\n"
     ]
    }
   ],
   "source": [
    "from sklearn.metrics import r2_score,mean_absolute_error,mean_squared_error,root_mean_squared_error\n",
    "print(\"R2 SCORE :\",r2_score(y_test,y_pred))\n",
    "print(\"MEAN ABSOLUTE ERROR :\",mean_absolute_error(y_test,y_pred))\n",
    "print(\"MEAN SQUARED ERROR  :\",mean_squared_error(y_test,y_pred))\n",
    "print(\"ROOT MEAN SQUARED ERROR  :\",root_mean_squared_error(y_test,y_pred))"
   ]
  },
  {
   "cell_type": "markdown",
   "id": "7b92add9-127e-4be9-b243-2d5c31a74a38",
   "metadata": {},
   "source": [
    "## Algonix Implementation"
   ]
  },
  {
   "cell_type": "code",
   "execution_count": 118,
   "id": "fc093ec4-58f3-4ab1-8cde-3e346c666abe",
   "metadata": {},
   "outputs": [],
   "source": [
    "from algonix.models import MultipleLinearRegression\n",
    "Clr=MultipleLinearRegression()\n",
    "Clr.fit(X_train,y_train)\n",
    "y_pred_alg=Clr.predict(X_test)"
   ]
  },
  {
   "cell_type": "code",
   "execution_count": 119,
   "id": "874967d8-1edd-4bf6-bad2-23665e4ad19b",
   "metadata": {},
   "outputs": [
    {
     "name": "stdout",
     "output_type": "stream",
     "text": [
      "R2 SCORE : 0.6235643963057577\n",
      "MEAN ABSOLUTE ERROR : 8.239439993896921\n",
      "MEAN SQUARED ERROR  : 107.5180496265691\n",
      "ROOT MEAN SQUARED ERROR  : 10.369091070415434\n"
     ]
    }
   ],
   "source": [
    "from sklearn.metrics import r2_score,mean_absolute_error,mean_squared_error,root_mean_squared_error\n",
    "print(\"R2 SCORE :\",r2_score(y_test,y_pred_alg))\n",
    "print(\"MEAN ABSOLUTE ERROR :\",mean_absolute_error(y_test,y_pred_alg))\n",
    "print(\"MEAN SQUARED ERROR  :\",mean_squared_error(y_test,y_pred_alg))\n",
    "print(\"ROOT MEAN SQUARED ERROR  :\",root_mean_squared_error(y_test,y_pred_alg))"
   ]
  },
  {
   "cell_type": "code",
   "execution_count": null,
   "id": "7c4484b6-14f9-4072-9d64-3169c901dfbe",
   "metadata": {},
   "outputs": [],
   "source": []
  },
  {
   "cell_type": "markdown",
   "id": "2186b69c-7323-402e-b572-358275d6edfb",
   "metadata": {},
   "source": [
    "## Student Performance Dataset"
   ]
  },
  {
   "cell_type": "code",
   "execution_count": 120,
   "id": "dee31b52-68ed-4a02-8076-91d19a9f2ca1",
   "metadata": {},
   "outputs": [
    {
     "name": "stdout",
     "output_type": "stream",
     "text": [
      "Ddimension of Dataset (1000000, 5)\n"
     ]
    },
    {
     "data": {
      "text/html": [
       "<div>\n",
       "<style scoped>\n",
       "    .dataframe tbody tr th:only-of-type {\n",
       "        vertical-align: middle;\n",
       "    }\n",
       "\n",
       "    .dataframe tbody tr th {\n",
       "        vertical-align: top;\n",
       "    }\n",
       "\n",
       "    .dataframe thead th {\n",
       "        text-align: right;\n",
       "    }\n",
       "</style>\n",
       "<table border=\"1\" class=\"dataframe\">\n",
       "  <thead>\n",
       "    <tr style=\"text-align: right;\">\n",
       "      <th></th>\n",
       "      <th>Hours Studied</th>\n",
       "      <th>Previous Scores</th>\n",
       "      <th>Sleep Hours</th>\n",
       "      <th>Sample Question Papers Practiced</th>\n",
       "      <th>Performance Index</th>\n",
       "    </tr>\n",
       "  </thead>\n",
       "  <tbody>\n",
       "    <tr>\n",
       "      <th>0</th>\n",
       "      <td>9</td>\n",
       "      <td>62</td>\n",
       "      <td>9</td>\n",
       "      <td>6</td>\n",
       "      <td>65</td>\n",
       "    </tr>\n",
       "    <tr>\n",
       "      <th>1</th>\n",
       "      <td>6</td>\n",
       "      <td>97</td>\n",
       "      <td>8</td>\n",
       "      <td>7</td>\n",
       "      <td>92</td>\n",
       "    </tr>\n",
       "    <tr>\n",
       "      <th>2</th>\n",
       "      <td>3</td>\n",
       "      <td>65</td>\n",
       "      <td>4</td>\n",
       "      <td>9</td>\n",
       "      <td>48</td>\n",
       "    </tr>\n",
       "    <tr>\n",
       "      <th>3</th>\n",
       "      <td>2</td>\n",
       "      <td>56</td>\n",
       "      <td>4</td>\n",
       "      <td>5</td>\n",
       "      <td>28</td>\n",
       "    </tr>\n",
       "    <tr>\n",
       "      <th>4</th>\n",
       "      <td>2</td>\n",
       "      <td>42</td>\n",
       "      <td>7</td>\n",
       "      <td>8</td>\n",
       "      <td>21</td>\n",
       "    </tr>\n",
       "  </tbody>\n",
       "</table>\n",
       "</div>"
      ],
      "text/plain": [
       "   Hours Studied  Previous Scores  Sleep Hours  \\\n",
       "0              9               62            9   \n",
       "1              6               97            8   \n",
       "2              3               65            4   \n",
       "3              2               56            4   \n",
       "4              2               42            7   \n",
       "\n",
       "   Sample Question Papers Practiced  Performance Index  \n",
       "0                                 6                 65  \n",
       "1                                 7                 92  \n",
       "2                                 9                 48  \n",
       "3                                 5                 28  \n",
       "4                                 8                 21  "
      ]
     },
     "execution_count": 120,
     "metadata": {},
     "output_type": "execute_result"
    }
   ],
   "source": [
    "#student Performance Dataset\n",
    "df=pd.read_csv(r\"Student_Performance_1M.csv\")\n",
    "X=df.iloc[:,0:4]\n",
    "y=df.iloc[:,-1]\n",
    "print(\"Ddimension of Dataset\",df.shape)\n",
    "df.head()"
   ]
  },
  {
   "cell_type": "code",
   "execution_count": 121,
   "id": "9298e268-6fa7-442b-8b77-68ca7639cdd7",
   "metadata": {},
   "outputs": [],
   "source": [
    "from sklearn.model_selection import train_test_split\n",
    "X_train,X_test,y_train,y_test=train_test_split(X,y,random_state=2,test_size=0.2)"
   ]
  },
  {
   "cell_type": "code",
   "execution_count": 122,
   "id": "9410cfb4-3cb4-474b-9d9c-4e8f1c9c7c21",
   "metadata": {},
   "outputs": [],
   "source": [
    "from sklearn.linear_model import LinearRegression\n",
    "lr=LinearRegression()\n",
    "lr.fit(X_train,y_train)\n",
    "y_pred=lr.predict(X_test)"
   ]
  },
  {
   "cell_type": "code",
   "execution_count": 123,
   "id": "a0c1e0cc-7628-4a74-b908-b9947391f81c",
   "metadata": {},
   "outputs": [
    {
     "name": "stdout",
     "output_type": "stream",
     "text": [
      "R2 SCORE : 0.9884177324329245\n",
      "MEAN ABSOLUTE ERROR : 1.6422216887934802\n",
      "MEAN SQUARED ERROR  : 4.270233786122427\n",
      "ROOT MEAN SQUARED ERROR  : 2.066454399720068\n"
     ]
    }
   ],
   "source": [
    "from sklearn.metrics import r2_score,mean_absolute_error,mean_squared_error,root_mean_squared_error\n",
    "print(\"R2 SCORE :\",r2_score(y_test,y_pred))\n",
    "print(\"MEAN ABSOLUTE ERROR :\",mean_absolute_error(y_test,y_pred))\n",
    "print(\"MEAN SQUARED ERROR  :\",mean_squared_error(y_test,y_pred))\n",
    "print(\"ROOT MEAN SQUARED ERROR  :\",root_mean_squared_error(y_test,y_pred))"
   ]
  },
  {
   "cell_type": "code",
   "execution_count": 124,
   "id": "098a37cf-3de6-4c94-b680-7e696206df6d",
   "metadata": {},
   "outputs": [],
   "source": [
    "from algonix.models import MultipleLinearRegression\n",
    "Clr=MultipleLinearRegression()\n",
    "Clr.fit(X_train,y_train)\n",
    "y_pred_alg=Clr.predict(X_test)"
   ]
  },
  {
   "cell_type": "code",
   "execution_count": null,
   "id": "1381212f-605e-4554-9799-4def955ec9b5",
   "metadata": {},
   "outputs": [],
   "source": []
  },
  {
   "cell_type": "code",
   "execution_count": 125,
   "id": "7776346c-8e81-400b-a6ec-518230be0a85",
   "metadata": {},
   "outputs": [
    {
     "name": "stdout",
     "output_type": "stream",
     "text": [
      "R2 SCORE : 0.9884177324329245\n",
      "MEAN ABSOLUTE ERROR : 1.642221688793482\n",
      "MEAN SQUARED ERROR  : 4.270233786122421\n",
      "ROOT MEAN SQUARED ERROR  : 2.0664543997200666\n"
     ]
    }
   ],
   "source": [
    "from sklearn.metrics import r2_score,mean_absolute_error,mean_squared_error,root_mean_squared_error\n",
    "print(\"R2 SCORE :\",r2_score(y_test,y_pred_alg))\n",
    "print(\"MEAN ABSOLUTE ERROR :\",mean_absolute_error(y_test,y_pred_alg))\n",
    "print(\"MEAN SQUARED ERROR  :\",mean_squared_error(y_test,y_pred_alg))\n",
    "print(\"ROOT MEAN SQUARED ERROR  :\",root_mean_squared_error(y_test,y_pred_alg))"
   ]
  },
  {
   "cell_type": "code",
   "execution_count": null,
   "id": "2080d925-9193-404e-a721-b831b04c5547",
   "metadata": {},
   "outputs": [],
   "source": []
  },
  {
   "cell_type": "code",
   "execution_count": null,
   "id": "fa001687-8df9-480a-8e35-3ce3a7356880",
   "metadata": {},
   "outputs": [],
   "source": [
    "MultipleLinearRegression"
   ]
  },
  {
   "cell_type": "code",
   "execution_count": null,
   "id": "f484cf98-f7bd-4752-8a36-58cfaa567daf",
   "metadata": {},
   "outputs": [],
   "source": []
  },
  {
   "cell_type": "code",
   "execution_count": null,
   "id": "3961e177-6189-4fa0-b2b4-6abddd2b30e8",
   "metadata": {},
   "outputs": [],
   "source": []
  },
  {
   "cell_type": "code",
   "execution_count": null,
   "id": "89b9d28a-b996-48ee-a5fb-20586fdf461b",
   "metadata": {},
   "outputs": [],
   "source": []
  },
  {
   "cell_type": "markdown",
   "id": "8a514dd5-aebd-4688-a92f-5bd1d830964c",
   "metadata": {},
   "source": [
    "## lasso regression"
   ]
  },
  {
   "cell_type": "code",
   "execution_count": 138,
   "id": "1b583a6f-bca8-4902-8ec8-e376c1a5daf7",
   "metadata": {},
   "outputs": [
    {
     "name": "stdout",
     "output_type": "stream",
     "text": [
      "\n",
      "\n",
      "Dimension of Dataset (100000, 9)\n",
      "\n",
      "\n"
     ]
    }
   ],
   "source": [
    "#concrete data set\n",
    "df=pd.read_csv(r\"concrete_data_100k.csv\")\n",
    "\n",
    "df.head()\n",
    "X=df.iloc[:,0:8]\n",
    "y=df.iloc[:,-1]\n",
    "\n",
    "print(\"\\n\")\n",
    "\n",
    "print(\"Dimension of Dataset\",df.shape)\n",
    "\n",
    "print(\"\\n\")\n",
    "\n",
    "df.head()\n",
    "from sklearn.model_selection import train_test_split\n",
    "X_train,X_test,y_train,y_test=train_test_split(X,y,random_state=2,test_size=0.2)"
   ]
  },
  {
   "cell_type": "markdown",
   "id": "8e6429bb-6396-4bf8-889e-e80ee22d27dd",
   "metadata": {},
   "source": [
    "## Sklearn Implementation of lasso "
   ]
  },
  {
   "cell_type": "code",
   "execution_count": 132,
   "id": "483f9705-9bdf-4d78-aabe-8f2cb0f29bd1",
   "metadata": {},
   "outputs": [],
   "source": [
    "from sklearn.linear_model import Lasso\n",
    "lr=Lasso()\n",
    "lr.fit(X_train,y_train)\n",
    "y_pred=lr.predict(X_test)"
   ]
  },
  {
   "cell_type": "code",
   "execution_count": 130,
   "id": "94039825-926f-479e-b9f7-8801c023914c",
   "metadata": {},
   "outputs": [
    {
     "name": "stdout",
     "output_type": "stream",
     "text": [
      "R2 SCORE : 0.6235643963057703\n",
      "MEAN ABSOLUTE ERROR : 8.239439993895903\n",
      "MEAN SQUARED ERROR  : 107.51804962656549\n",
      "ROOT MEAN SQUARED ERROR  : 10.36909107041526\n"
     ]
    }
   ],
   "source": [
    "from sklearn.metrics import r2_score,mean_absolute_error,mean_squared_error,root_mean_squared_error\n",
    "print(\"R2 SCORE :\",r2_score(y_test,y_pred))\n",
    "print(\"MEAN ABSOLUTE ERROR :\",mean_absolute_error(y_test,y_pred))\n",
    "print(\"MEAN SQUARED ERROR  :\",mean_squared_error(y_test,y_pred))\n",
    "print(\"ROOT MEAN SQUARED ERROR  :\",root_mean_squared_error(y_test,y_pred))"
   ]
  },
  {
   "cell_type": "markdown",
   "id": "a8ce794f-262e-4c15-ab8d-96159fcd08d6",
   "metadata": {},
   "source": [
    "## Algonix Implementation of lasso"
   ]
  },
  {
   "cell_type": "code",
   "execution_count": 133,
   "id": "9979a80e-413e-465c-989c-eed423b5dd7d",
   "metadata": {},
   "outputs": [],
   "source": [
    "from algonix.models import LassoRegression\n",
    "Clr=LassoRegression()\n",
    "Clr.fit(X_train,y_train)\n",
    "y_pred_alg=Clr.predict(X_test)"
   ]
  },
  {
   "cell_type": "code",
   "execution_count": 134,
   "id": "0a89149b-b33a-4956-9ae8-d9707a20e620",
   "metadata": {},
   "outputs": [
    {
     "name": "stdout",
     "output_type": "stream",
     "text": [
      "R2 SCORE : 0.622667138247495\n",
      "MEAN ABSOLUTE ERROR : 8.282864810676477\n",
      "MEAN SQUARED ERROR  : 107.77432569474485\n",
      "ROOT MEAN SQUARED ERROR  : 10.38144140737426\n"
     ]
    }
   ],
   "source": [
    "from sklearn.metrics import r2_score,mean_absolute_error,mean_squared_error,root_mean_squared_error\n",
    "print(\"R2 SCORE :\",r2_score(y_test,y_pred_alg))\n",
    "print(\"MEAN ABSOLUTE ERROR :\",mean_absolute_error(y_test,y_pred_alg))\n",
    "print(\"MEAN SQUARED ERROR  :\",mean_squared_error(y_test,y_pred_alg))\n",
    "print(\"ROOT MEAN SQUARED ERROR  :\",root_mean_squared_error(y_test,y_pred_alg))"
   ]
  },
  {
   "cell_type": "markdown",
   "id": "c3ee6700-3166-4a68-8805-0260618e1684",
   "metadata": {},
   "source": [
    "## sklearn implementation of Ridge regression"
   ]
  },
  {
   "cell_type": "code",
   "execution_count": 139,
   "id": "fc628f95-b4f7-4b5b-90e9-ad35f5697e42",
   "metadata": {},
   "outputs": [],
   "source": [
    "from sklearn.linear_model import Ridge\n",
    "rrg=Ridge()\n",
    "rrg.fit(X_train,y_train)\n",
    "y_pred=rrg.predict(X_test)"
   ]
  },
  {
   "cell_type": "code",
   "execution_count": 140,
   "id": "b1fd0b88-d74b-4c3a-91f3-712bb20b5291",
   "metadata": {},
   "outputs": [
    {
     "name": "stdout",
     "output_type": "stream",
     "text": [
      "R2 SCORE : 0.623564396243556\n",
      "MEAN ABSOLUTE ERROR : 8.239439995694136\n",
      "MEAN SQUARED ERROR  : 107.51804964433525\n",
      "ROOT MEAN SQUARED ERROR  : 10.369091071272122\n"
     ]
    }
   ],
   "source": [
    "from sklearn.metrics import r2_score,mean_absolute_error,mean_squared_error,root_mean_squared_error\n",
    "print(\"R2 SCORE :\",r2_score(y_test,y_pred))\n",
    "print(\"MEAN ABSOLUTE ERROR :\",mean_absolute_error(y_test,y_pred))\n",
    "print(\"MEAN SQUARED ERROR  :\",mean_squared_error(y_test,y_pred))\n",
    "print(\"ROOT MEAN SQUARED ERROR  :\",root_mean_squared_error(y_test,y_pred))"
   ]
  },
  {
   "cell_type": "code",
   "execution_count": 141,
   "id": "0af148e1-8b0d-46ef-a37c-2382239fa1f3",
   "metadata": {},
   "outputs": [],
   "source": [
    "from algonix.models import RidgeRegression\n",
    "rrg_alg=RidgeRegression()\n",
    "rrg_alg.fit(X_train,y_train)\n",
    "y_pred=rrg_alg.predict(X_test)"
   ]
  },
  {
   "cell_type": "code",
   "execution_count": 142,
   "id": "630a0a17-6045-47e3-838a-37e2b687a89f",
   "metadata": {},
   "outputs": [
    {
     "name": "stdout",
     "output_type": "stream",
     "text": [
      "R2 SCORE : 0.6235643962435278\n",
      "MEAN ABSOLUTE ERROR : 8.239439995696177\n",
      "MEAN SQUARED ERROR  : 107.51804964434328\n",
      "ROOT MEAN SQUARED ERROR  : 10.369091071272509\n"
     ]
    }
   ],
   "source": [
    "from sklearn.metrics import r2_score,mean_absolute_error,mean_squared_error,root_mean_squared_error\n",
    "print(\"R2 SCORE :\",r2_score(y_test,y_pred))\n",
    "print(\"MEAN ABSOLUTE ERROR :\",mean_absolute_error(y_test,y_pred))\n",
    "print(\"MEAN SQUARED ERROR  :\",mean_squared_error(y_test,y_pred))\n",
    "print(\"ROOT MEAN SQUARED ERROR  :\",root_mean_squared_error(y_test,y_pred))"
   ]
  },
  {
   "cell_type": "code",
   "execution_count": null,
   "id": "da964780-e7fe-47f7-889e-524a0aef0343",
   "metadata": {},
   "outputs": [],
   "source": []
  }
 ],
 "metadata": {
  "kernelspec": {
   "display_name": "Python 3 (ipykernel)",
   "language": "python",
   "name": "python3"
  },
  "language_info": {
   "codemirror_mode": {
    "name": "ipython",
    "version": 3
   },
   "file_extension": ".py",
   "mimetype": "text/x-python",
   "name": "python",
   "nbconvert_exporter": "python",
   "pygments_lexer": "ipython3",
   "version": "3.12.7"
  }
 },
 "nbformat": 4,
 "nbformat_minor": 5
}
