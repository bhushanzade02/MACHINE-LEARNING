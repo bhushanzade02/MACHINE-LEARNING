{
 "cells": [
  {
   "cell_type": "code",
   "execution_count": 8,
   "id": "1dfe2ea1-c964-49ec-a169-843f604b35b8",
   "metadata": {},
   "outputs": [
    {
     "name": "stdout",
     "output_type": "stream",
     "text": [
      "<module 'my_ml_library' from 'D:\\\\my_ml_library\\\\my_ml_library\\\\__init__.py'>\n"
     ]
    }
   ],
   "source": [
    "import my_ml_library\n",
    "print(my_ml_library)\n"
   ]
  },
  {
   "cell_type": "code",
   "execution_count": 9,
   "id": "90e5cb8a-0840-454a-96ec-07fccd8f7508",
   "metadata": {},
   "outputs": [],
   "source": [
    "import numpy as np\n",
    "from my_ml_library.models import SimpleLinearRegression, MultipleLinearRegression, LogisticRegression\n",
    "from my_ml_library.metrics import mean_squared_error, mean_absolute_error, r2_score\n"
   ]
  },
  {
   "cell_type": "code",
   "execution_count": 14,
   "id": "db276866-2aa8-403b-afb5-fd03a8b714f7",
   "metadata": {},
   "outputs": [
    {
     "name": "stdout",
     "output_type": "stream",
     "text": [
      "Predictions: [1.8 3.8 5.8 7.8 9.8]\n",
      "MSE: 0.15999999999999992\n",
      "MAE: 0.31999999999999995\n",
      "R2 Score: 0.9803921568627451\n"
     ]
    }
   ],
   "source": [
    "X = np.array([[1], [2], [3], [4], [5]])\n",
    "y = np.array([2, 4, 5, 8, 10])\n",
    "model = SimpleLinearRegression()\n",
    "model.fit(X, y)\n",
    "y_pred = model.predict(X)\n",
    "print(\"Predictions:\", y_pred)\n",
    "print(\"MSE:\", mean_squared_error(y, y_pred))\n",
    "print(\"MAE:\", mean_absolute_error(y, y_pred))\n",
    "print(\"R2 Score:\", r2_score(y, y_pred))"
   ]
  },
  {
   "cell_type": "code",
   "execution_count": 11,
   "id": "80fdab1e-af24-4e32-a811-e984cbf21daf",
   "metadata": {},
   "outputs": [
    {
     "name": "stdout",
     "output_type": "stream",
     "text": [
      "Python 3.13.0\n"
     ]
    }
   ],
   "source": [
    "!python --version"
   ]
  },
  {
   "cell_type": "code",
   "execution_count": null,
   "id": "add1f6d0-1256-40e1-9191-f7e2f856f73b",
   "metadata": {},
   "outputs": [],
   "source": [
    "check"
   ]
  }
 ],
 "metadata": {
  "kernelspec": {
   "display_name": "Python 3 (ipykernel)",
   "language": "python",
   "name": "python3"
  },
  "language_info": {
   "codemirror_mode": {
    "name": "ipython",
    "version": 3
   },
   "file_extension": ".py",
   "mimetype": "text/x-python",
   "name": "python",
   "nbconvert_exporter": "python",
   "pygments_lexer": "ipython3",
   "version": "3.13.0"
  }
 },
 "nbformat": 4,
 "nbformat_minor": 5
}
