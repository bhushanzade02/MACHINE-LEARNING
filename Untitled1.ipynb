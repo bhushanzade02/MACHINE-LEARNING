{
 "cells": [
  {
   "cell_type": "code",
   "execution_count": 3,
   "id": "c46a14b0-607a-45be-89d4-40b6868f7d1a",
   "metadata": {},
   "outputs": [],
   "source": [
    "import algonix\n",
    "import numpy as np\n"
   ]
  },
  {
   "cell_type": "code",
   "execution_count": 4,
   "id": "c5eb22e3-82b1-4aba-afe5-e85622729cef",
   "metadata": {},
   "outputs": [],
   "source": [
    "\n",
    "from algonix.models import SimpleLinearRegression\n",
    "\n",
    "# Sample dataset (X: feature, y: target)\n",
    "X = np.array([1, 2, 3, 4, 5])  # Feature (independent variable)\n",
    "y = np.array([1, 2, 1.3, 3.75, 2.25])  # Target (dependent variable)\n",
    "\n",
    "# Reshape the data to be in the correct form for the model\n",
    "X = X.reshape(-1, 1)\n",
    "\n",
    "# Initialize the SimpleLinearRegression model\n",
    "model = SimpleLinearRegression()\n",
    "\n",
    "# Train the model on the data\n",
    "model.fit(X, y)\n",
    "\n",
    "# Predicting values\n",
    "y_pred = model.predict(X)\n"
   ]
  },
  {
   "cell_type": "code",
   "execution_count": null,
   "id": "1cf68347-1cec-4cef-a737-62c6451d99cc",
   "metadata": {},
   "outputs": [],
   "source": []
  }
 ],
 "metadata": {
  "kernelspec": {
   "display_name": "Python 3 (ipykernel)",
   "language": "python",
   "name": "python3"
  },
  "language_info": {
   "codemirror_mode": {
    "name": "ipython",
    "version": 3
   },
   "file_extension": ".py",
   "mimetype": "text/x-python",
   "name": "python",
   "nbconvert_exporter": "python",
   "pygments_lexer": "ipython3",
   "version": "3.13.0"
  }
 },
 "nbformat": 4,
 "nbformat_minor": 5
}
