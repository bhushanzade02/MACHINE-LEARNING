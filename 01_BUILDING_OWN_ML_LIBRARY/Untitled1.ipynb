{
 "cells": [
  {
   "cell_type": "code",
   "execution_count": 1,
   "id": "d7e611d3-6138-441d-90db-bff40879591f",
   "metadata": {},
   "outputs": [
    {
     "name": "stdout",
     "output_type": "stream",
     "text": [
      "<module 'my_ml_library' from 'D:\\\\my_ml_library\\\\my_ml_library\\\\__init__.py'>\n"
     ]
    }
   ],
   "source": [
    "import my_ml_library\n",
    "print(my_ml_library)\n"
   ]
  },
  {
   "cell_type": "code",
   "execution_count": 2,
   "id": "46395221-6e7f-4fad-b2af-f1d1cbad8959",
   "metadata": {},
   "outputs": [],
   "source": [
    "import numpy as np\n",
    "from my_ml_library.models import SimpleLinearRegression, MultipleLinearRegression, LogisticRegression\n",
    "from my_ml_library.metrics import mean_squared_error, mean_absolute_error, r2_score\n"
   ]
  },
  {
   "cell_type": "code",
   "execution_count": null,
   "id": "5d77662c-12f5-4c48-9af6-b7ae342c8154",
   "metadata": {},
   "outputs": [],
   "source": []
  }
 ],
 "metadata": {
  "kernelspec": {
   "display_name": "Python 3 (ipykernel)",
   "language": "python",
   "name": "python3"
  },
  "language_info": {
   "codemirror_mode": {
    "name": "ipython",
    "version": 3
   },
   "file_extension": ".py",
   "mimetype": "text/x-python",
   "name": "python",
   "nbconvert_exporter": "python",
   "pygments_lexer": "ipython3",
   "version": "3.13.0"
  }
 },
 "nbformat": 4,
 "nbformat_minor": 5
}
