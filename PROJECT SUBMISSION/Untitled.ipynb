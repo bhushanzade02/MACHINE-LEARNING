{
 "cells": [
  {
   "cell_type": "code",
   "execution_count": 2,
   "id": "71fa73d2-3646-4300-a179-ef038e62e5d9",
   "metadata": {},
   "outputs": [
    {
     "ename": "ModuleNotFoundError",
     "evalue": "No module named 'my_ml_library'",
     "output_type": "error",
     "traceback": [
      "\u001b[1;31m---------------------------------------------------------------------------\u001b[0m",
      "\u001b[1;31mModuleNotFoundError\u001b[0m                       Traceback (most recent call last)",
      "Cell \u001b[1;32mIn[2], line 1\u001b[0m\n\u001b[1;32m----> 1\u001b[0m \u001b[38;5;28;01mfrom\u001b[39;00m \u001b[38;5;21;01mmy_ml_library\u001b[39;00m \u001b[38;5;28;01mimport\u001b[39;00m SimpleLinearRegression\n",
      "\u001b[1;31mModuleNotFoundError\u001b[0m: No module named 'my_ml_library'"
     ]
    }
   ],
   "source": [
    "from my_ml_library import SimpleLinearRegression"
   ]
  },
  {
   "cell_type": "code",
   "execution_count": 4,
   "id": "95454acc-f874-4641-a072-c85f4f0ad76e",
   "metadata": {},
   "outputs": [
    {
     "ename": "ModuleNotFoundError",
     "evalue": "No module named 'my_ml_library'",
     "output_type": "error",
     "traceback": [
      "\u001b[1;31m---------------------------------------------------------------------------\u001b[0m",
      "\u001b[1;31mModuleNotFoundError\u001b[0m                       Traceback (most recent call last)",
      "Cell \u001b[1;32mIn[4], line 1\u001b[0m\n\u001b[1;32m----> 1\u001b[0m \u001b[38;5;28;01mimport\u001b[39;00m \u001b[38;5;21;01mmy_ml_library\u001b[39;00m\n\u001b[0;32m      2\u001b[0m \u001b[38;5;28mprint\u001b[39m(my_ml_library)\n",
      "\u001b[1;31mModuleNotFoundError\u001b[0m: No module named 'my_ml_library'"
     ]
    }
   ],
   "source": [
    "import my_ml_library\n",
    "print(my_ml_library)\n"
   ]
  },
  {
   "cell_type": "code",
   "execution_count": 3,
   "id": "b77b887a-2e32-4035-a915-24e95c5c896b",
   "metadata": {},
   "outputs": [
    {
     "name": "stdout",
     "output_type": "stream",
     "text": [
      "Name: my_ml_libraryNote: you may need to restart the kernel to use updated packages.\n",
      "\n",
      "Version: 0.1.1\n",
      "Summary: A simple machine learning library with regression models and metrics.\n",
      "Home-page: https://github.com/bhushanzade02\n",
      "Author: Bhushan Zade\n",
      "Author-email: bhushanzade02@gmail.com\n",
      "License: \n",
      "Location: C:\\Users\\bhush\\AppData\\Local\\Programs\\Python\\Python313\\Lib\\site-packages\n",
      "Editable project location: D:\\16_MACHINE_LEARNING\\01_MY_ML_LIBRARY (FINAL DEPLOYED ON PYPI )\n",
      "Requires: numpy, scipy\n",
      "Required-by: \n"
     ]
    }
   ],
   "source": [
    "pip show my_ml_library\n"
   ]
  },
  {
   "cell_type": "code",
   "execution_count": null,
   "id": "c8515b35-be1b-46ce-8456-cfbe6ac42cdd",
   "metadata": {},
   "outputs": [],
   "source": []
  },
  {
   "cell_type": "code",
   "execution_count": null,
   "id": "918ac3af-8533-4fdf-b394-64359f0c3b3c",
   "metadata": {},
   "outputs": [],
   "source": []
  },
  {
   "cell_type": "code",
   "execution_count": null,
   "id": "f3c42f97-141b-4990-981c-4dd4a4be680f",
   "metadata": {},
   "outputs": [],
   "source": []
  }
 ],
 "metadata": {
  "kernelspec": {
   "display_name": "Python 3 (ipykernel)",
   "language": "python",
   "name": "python3"
  },
  "language_info": {
   "codemirror_mode": {
    "name": "ipython",
    "version": 3
   },
   "file_extension": ".py",
   "mimetype": "text/x-python",
   "name": "python",
   "nbconvert_exporter": "python",
   "pygments_lexer": "ipython3",
   "version": "3.13.0"
  }
 },
 "nbformat": 4,
 "nbformat_minor": 5
}
