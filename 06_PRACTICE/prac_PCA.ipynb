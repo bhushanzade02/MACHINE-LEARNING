{
 "cells": [
  {
   "cell_type": "code",
   "execution_count": 73,
   "id": "8687150e-436c-413b-9ed1-44e912b2ff93",
   "metadata": {},
   "outputs": [],
   "source": [
    "import numpy as np\n",
    "import pandas as pd\n",
    "import matplotlib.pyplot as plt\n",
    "import seaborn as sns \n",
    "from sklearn.datasets import load_iris"
   ]
  },
  {
   "cell_type": "code",
   "execution_count": 74,
   "id": "bb7e48b3-66b1-47ca-89b1-faf300dc8506",
   "metadata": {},
   "outputs": [],
   "source": [
    "iris=load_iris()"
   ]
  },
  {
   "cell_type": "code",
   "execution_count": 75,
   "id": "3da70651-b7ab-4a49-be43-b1c7f706eb41",
   "metadata": {},
   "outputs": [],
   "source": [
    "# df=pd.DataFrame(data=iris.data)"
   ]
  },
  {
   "cell_type": "code",
   "execution_count": 76,
   "id": "c517b97d-ae4d-4843-92f2-7dcc2ef1bdfa",
   "metadata": {},
   "outputs": [],
   "source": [
    "# df['target']=iris.target\n",
    "# df['target_name'] = pd.Categorical.from_codes(iris.target, iris.target_names)"
   ]
  },
  {
   "cell_type": "code",
   "execution_count": 77,
   "id": "5ca99b70-699a-48f0-9318-b54ab689a004",
   "metadata": {},
   "outputs": [],
   "source": [
    "X=iris.data\n",
    "y=iris.target\n",
    "feature_names=iris.feature_names"
   ]
  },
  {
   "cell_type": "code",
   "execution_count": 103,
   "id": "b621685d-ffd9-41c3-bae7-05e582ec7eea",
   "metadata": {},
   "outputs": [],
   "source": [
    "# X_centered=X-np.mean(X,axis=0\n",
    "from sklearn.preprocessing import StandardScaler\n",
    "scaler = StandardScaler()\n",
    "X_scaled = scaler.fit_transform(X)"
   ]
  },
  {
   "cell_type": "code",
   "execution_count": 79,
   "id": "257d4421-5057-4cf3-af08-06681f7ebfa1",
   "metadata": {},
   "outputs": [],
   "source": [
    "cov_matrix=np.cov(X_centered.T)"
   ]
  },
  {
   "cell_type": "code",
   "execution_count": 80,
   "id": "3ab73ae0-27f4-4b4e-ae05-6f00df30e17a",
   "metadata": {},
   "outputs": [
    {
     "data": {
      "text/plain": [
       "array([[ 0.68569351, -0.042434  ,  1.27431544,  0.51627069],\n",
       "       [-0.042434  ,  0.18997942, -0.32965638, -0.12163937],\n",
       "       [ 1.27431544, -0.32965638,  3.11627785,  1.2956094 ],\n",
       "       [ 0.51627069, -0.12163937,  1.2956094 ,  0.58100626]])"
      ]
     },
     "execution_count": 80,
     "metadata": {},
     "output_type": "execute_result"
    }
   ],
   "source": [
    "cov_matrix"
   ]
  },
  {
   "cell_type": "code",
   "execution_count": 81,
   "id": "4c93933f-640f-4594-a9cc-b4ae5f6658dc",
   "metadata": {},
   "outputs": [],
   "source": [
    "eigenvalue,eigenvector=np.linalg.eigh(cov_matrix)"
   ]
  },
  {
   "cell_type": "code",
   "execution_count": 82,
   "id": "8724cee5-8011-4275-9c79-947ea0ecb438",
   "metadata": {},
   "outputs": [
    {
     "data": {
      "text/plain": [
       "array([0.02383509, 0.0782095 , 0.24267075, 4.22824171])"
      ]
     },
     "execution_count": 82,
     "metadata": {},
     "output_type": "execute_result"
    }
   ],
   "source": [
    "eigenvalue\n"
   ]
  },
  {
   "cell_type": "code",
   "execution_count": 83,
   "id": "b56e2b69-0906-449d-8f89-4c2296874b52",
   "metadata": {},
   "outputs": [
    {
     "data": {
      "text/plain": [
       "array([[ 0.31548719,  0.58202985,  0.65658877, -0.36138659],\n",
       "       [-0.3197231 , -0.59791083,  0.73016143,  0.08452251],\n",
       "       [-0.47983899, -0.07623608, -0.17337266, -0.85667061],\n",
       "       [ 0.75365743, -0.54583143, -0.07548102, -0.3582892 ]])"
      ]
     },
     "execution_count": 83,
     "metadata": {},
     "output_type": "execute_result"
    }
   ],
   "source": [
    "eigenvector\n"
   ]
  },
  {
   "cell_type": "code",
   "execution_count": 85,
   "id": "b0031d69-7b5f-4b97-aaee-fbc44f0beaa2",
   "metadata": {},
   "outputs": [],
   "source": []
  },
  {
   "cell_type": "code",
   "execution_count": 88,
   "id": "6d73710a-c5b8-4b4f-9ab5-2b7c0b7c9a25",
   "metadata": {},
   "outputs": [],
   "source": [
    "# Step 5: Sort eigenvalues and eigenvectors in descending order\n",
    "sorted_idx = np.argsort(eigenvalue)[::-1]\n"
   ]
  },
  {
   "cell_type": "code",
   "execution_count": 89,
   "id": "2fb932e1-50ba-4fee-a499-a772929b1001",
   "metadata": {},
   "outputs": [
    {
     "data": {
      "text/plain": [
       "array([3, 2, 1, 0])"
      ]
     },
     "execution_count": 89,
     "metadata": {},
     "output_type": "execute_result"
    }
   ],
   "source": [
    "sorted_idx"
   ]
  },
  {
   "cell_type": "code",
   "execution_count": 90,
   "id": "778b0da4-17c2-4868-9f7d-4e620ae7f891",
   "metadata": {},
   "outputs": [],
   "source": [
    "eigenvalue=eigenvalue[sorted_idx]"
   ]
  },
  {
   "cell_type": "code",
   "execution_count": 91,
   "id": "47f87aec-125f-4f77-b17c-51f631f38516",
   "metadata": {},
   "outputs": [
    {
     "data": {
      "text/plain": [
       "array([4.22824171, 0.24267075, 0.0782095 , 0.02383509])"
      ]
     },
     "execution_count": 91,
     "metadata": {},
     "output_type": "execute_result"
    }
   ],
   "source": [
    "eigenvalue"
   ]
  },
  {
   "cell_type": "code",
   "execution_count": 93,
   "id": "ca24ee4e-0f96-49a3-8e47-3fc0808df70b",
   "metadata": {},
   "outputs": [],
   "source": [
    "eigenvectors=eigenvector[:,sorted_idx]"
   ]
  },
  {
   "cell_type": "code",
   "execution_count": 94,
   "id": "72c30f20-79d9-41c5-9044-8c965fcb315b",
   "metadata": {},
   "outputs": [
    {
     "data": {
      "text/plain": [
       "array([[-0.36138659,  0.65658877,  0.58202985,  0.31548719],\n",
       "       [ 0.08452251,  0.73016143, -0.59791083, -0.3197231 ],\n",
       "       [-0.85667061, -0.17337266, -0.07623608, -0.47983899],\n",
       "       [-0.3582892 , -0.07548102, -0.54583143,  0.75365743]])"
      ]
     },
     "execution_count": 94,
     "metadata": {},
     "output_type": "execute_result"
    }
   ],
   "source": [
    "eigenvectors"
   ]
  },
  {
   "cell_type": "code",
   "execution_count": 95,
   "id": "b2e5f47b-5308-4d15-9fa4-ac94c2dc4f97",
   "metadata": {},
   "outputs": [],
   "source": [
    "k=2\n",
    "projection_matrix=eigenvector[:,:k]"
   ]
  },
  {
   "cell_type": "code",
   "execution_count": 96,
   "id": "4ec49081-c9f8-4a36-a220-ac4bc2249886",
   "metadata": {},
   "outputs": [],
   "source": [
    "X_reduced=X_centered@projection_matrix"
   ]
  },
  {
   "cell_type": "code",
   "execution_count": 97,
   "id": "bfea115e-1dba-46ea-bdd0-e9db2a44c381",
   "metadata": {},
   "outputs": [
    {
     "data": {
      "text/plain": [
       "array([[ 2.26243707e-03,  2.79148276e-02],\n",
       "       [ 9.90265503e-02,  2.10464272e-01],\n",
       "       [ 1.99683897e-02, -1.79002563e-02],\n",
       "       [-7.55758166e-02, -3.15593736e-02],\n",
       "       [-6.12585926e-02, -9.00792406e-02],\n",
       "       [-2.42008576e-02, -1.68677658e-01],\n",
       "       [-4.81431065e-02, -2.57892158e-01],\n",
       "       [-4.52978706e-02,  2.18793179e-02],\n",
       "       [-2.67447358e-02, -2.07595703e-02],\n",
       "       [-5.62954013e-02,  1.97632725e-01],\n",
       "       [-1.50199245e-02,  7.53180094e-02],\n",
       "       [-1.56379208e-01, -1.02150260e-01],\n",
       "       [-7.88791149e-03,  2.06844430e-01],\n",
       "       [-2.16798118e-02, -6.12996725e-02],\n",
       "       [ 1.59209718e-01,  1.51627524e-01],\n",
       "       [ 6.55154587e-03, -2.77776903e-01],\n",
       "       [ 1.67734737e-01, -1.38183228e-01],\n",
       "       [ 7.76281796e-02, -2.66683156e-02],\n",
       "       [ 2.70518681e-02,  1.20305523e-01],\n",
       "       [-6.62726502e-02, -2.13665172e-01],\n",
       "       [-1.50707908e-02,  2.39444043e-01],\n",
       "       [ 4.10654027e-02, -2.08457232e-01],\n",
       "       [ 4.48212505e-03, -2.92396751e-01],\n",
       "       [ 1.48352589e-01, -3.91232587e-02],\n",
       "       [-3.00330904e-01, -1.25021083e-01],\n",
       "       [ 3.46074722e-02,  2.53420042e-01],\n",
       "       [ 5.74497158e-02, -9.49105761e-02],\n",
       "       [-1.41727423e-02,  7.84942051e-02],\n",
       "       [ 6.57834667e-02,  1.45908896e-01],\n",
       "       [-1.23983306e-01, -4.07710791e-02],\n",
       "       [-6.04622767e-02,  7.72229891e-02],\n",
       "       [ 2.31628492e-01,  1.45524972e-01],\n",
       "       [-2.81372347e-01, -2.25669150e-01],\n",
       "       [-9.53488583e-02, -1.57810813e-01],\n",
       "       [ 1.90703413e-02,  1.43049582e-01],\n",
       "       [ 1.62598446e-01,  1.64332307e-01],\n",
       "       [ 1.76441213e-01,  2.68350376e-01],\n",
       "       [-1.68173054e-01, -9.36990825e-02],\n",
       "       [-1.07331474e-02, -7.29270457e-02],\n",
       "       [-1.37491513e-02,  8.00823030e-02],\n",
       "       [ 9.40633590e-02, -7.72476932e-02],\n",
       "       [ 3.19987487e-01,  3.49230377e-01],\n",
       "       [-7.46777682e-02, -1.92509212e-01],\n",
       "       [ 1.76208890e-01, -2.63867946e-01],\n",
       "       [-1.82842502e-01, -2.98742746e-01],\n",
       "       [ 1.42843574e-01,  9.76781440e-02],\n",
       "       [-1.89622291e-01, -1.66705637e-01],\n",
       "       [-5.95642283e-02, -8.37268490e-02],\n",
       "       [-4.65686438e-02,  1.71150242e-02],\n",
       "       [ 3.46583385e-02,  8.92940085e-02],\n",
       "       [ 1.85252879e-02,  4.06568025e-01],\n",
       "       [ 5.66512106e-04,  1.80141866e-02],\n",
       "       [-1.65317587e-03,  3.38325765e-01],\n",
       "       [ 9.35668402e-02,  1.79591392e-01],\n",
       "       [ 1.12020574e-01,  3.07757896e-01],\n",
       "       [-2.43116767e-01, -4.10760908e-02],\n",
       "       [-8.35565724e-02, -1.69810240e-01],\n",
       "       [-1.79077226e-02, -1.23029192e-02],\n",
       "       [-3.91345020e-02,  4.15336085e-01],\n",
       "       [-5.61891788e-03, -2.81141431e-01],\n",
       "       [ 4.55624408e-02,  2.69817183e-01],\n",
       "       [ 5.07192325e-02, -1.30547750e-01],\n",
       "       [ 5.71855195e-02,  6.94146830e-01],\n",
       "       [-1.69496255e-01,  6.21144083e-02],\n",
       "       [ 1.25217292e-01, -9.04576907e-02],\n",
       "       [ 9.98031365e-02,  3.14620976e-01],\n",
       "       [-1.87878621e-01, -3.28027528e-01],\n",
       "       [-2.13757370e-01,  2.71161837e-01],\n",
       "       [ 2.57192177e-01,  4.99519046e-01],\n",
       "       [-4.15766476e-02,  2.35002105e-01],\n",
       "       [-7.50315529e-02, -4.59620991e-01],\n",
       "       [ 1.22997604e-01,  2.29853888e-01],\n",
       "       [ 8.88370584e-04,  3.47854352e-01],\n",
       "       [-2.88255429e-01,  2.31071778e-01],\n",
       "       [ 4.17197556e-02,  3.21800937e-01],\n",
       "       [ 1.00226728e-01,  3.16209074e-01],\n",
       "       [ 3.53331921e-02,  5.21702780e-01],\n",
       "       [ 6.99692823e-02,  1.64920984e-01],\n",
       "       [-2.97114340e-02, -3.54245048e-02],\n",
       "       [ 7.45696136e-02,  3.18491581e-01],\n",
       "       [ 6.83084222e-03,  2.44213810e-01],\n",
       "       [-2.05510016e-02,  3.06420561e-01],\n",
       "       [ 3.29419128e-02,  1.77242766e-01],\n",
       "       [-1.78304463e-01, -1.61671275e-02],\n",
       "       [-2.50976060e-01, -4.44433499e-01],\n",
       "       [-1.14207243e-01, -3.88963063e-01],\n",
       "       [ 3.12171829e-02,  2.37167010e-01],\n",
       "       [ 1.54021000e-01,  6.14720843e-01],\n",
       "       [-1.46674512e-01, -1.88366812e-01],\n",
       "       [ 2.96222195e-02,  6.00092259e-02],\n",
       "       [-2.69651428e-01,  2.43068557e-02],\n",
       "       [-1.53484666e-01,  9.94693289e-03],\n",
       "       [ 1.69303245e-02,  2.29410241e-01],\n",
       "       [ 4.56133071e-02,  1.05691149e-01],\n",
       "       [-9.87414793e-02, -1.66171702e-02],\n",
       "       [-2.38475434e-01, -8.32042909e-02],\n",
       "       [-1.31137381e-01, -7.79963511e-02],\n",
       "       [-2.13776830e-02,  2.05394967e-01],\n",
       "       [ 2.32534844e-01,  1.25996476e-02],\n",
       "       [-5.11811717e-02, -1.05816605e-02],\n",
       "       [-2.90555728e-02, -7.60165427e-01],\n",
       "       [-1.53046739e-02, -2.96322527e-01],\n",
       "       [ 6.57720412e-02,  1.10787883e-01],\n",
       "       [-2.36790934e-01, -1.08424662e-01],\n",
       "       [-1.70633278e-04, -2.85389563e-01],\n",
       "       [-1.12371653e-01,  3.48437556e-01],\n",
       "       [-9.81266196e-02, -5.45659296e-01],\n",
       "       [-2.57191032e-01,  4.20239936e-01],\n",
       "       [-7.86746130e-02,  3.48304395e-01],\n",
       "       [ 1.10982071e-01, -4.23335418e-01],\n",
       "       [ 1.21040552e-01, -2.42440190e-01],\n",
       "       [ 7.80198444e-02,  3.76481682e-02],\n",
       "       [ 1.63061478e-01, -3.33266418e-02],\n",
       "       [ 1.40440869e-01, -2.81902882e-01],\n",
       "       [ 3.29551728e-01, -6.29029326e-01],\n",
       "       [ 2.19621263e-01, -4.79639820e-01],\n",
       "       [-1.57681907e-01, -4.41861676e-02],\n",
       "       [-3.09219573e-01, -1.33894874e-01],\n",
       "       [ 5.38460965e-02,  5.13767764e-01],\n",
       "       [-4.58247549e-02,  3.44995038e-01],\n",
       "       [ 1.85429264e-01, -2.19119324e-01],\n",
       "       [ 6.09591171e-02, -5.11855509e-01],\n",
       "       [-1.40227954e-01,  5.73182243e-01],\n",
       "       [ 1.63040977e-01,  6.45227566e-02],\n",
       "       [-6.03719696e-02, -2.86150091e-01],\n",
       "       [-2.40704986e-01,  2.05534524e-01],\n",
       "       [ 1.47503846e-01, -4.58477039e-02],\n",
       "       [ 4.02660775e-03, -2.31256463e-01],\n",
       "       [ 5.28273230e-02, -1.54180024e-01],\n",
       "       [-2.31524053e-01,  4.49530192e-01],\n",
       "       [-2.23364626e-02,  4.98898076e-01],\n",
       "       [-2.52901923e-01,  1.14548205e-01],\n",
       "       [ 1.28193066e-01, -2.08763167e-01],\n",
       "       [-1.90996358e-01,  1.53233888e-01],\n",
       "       [-5.05434412e-01,  1.72875189e-01],\n",
       "       [ 3.09828045e-01,  3.35592292e-01],\n",
       "       [ 5.55419691e-02, -7.34878937e-01],\n",
       "       [-2.21202937e-01, -1.62180236e-01],\n",
       "       [ 2.04617872e-02, -2.81835840e-01],\n",
       "       [ 2.10621786e-01, -2.72911321e-02],\n",
       "       [ 2.77653777e-01, -3.22693747e-01],\n",
       "       [ 5.05304967e-01, -1.13586596e-01],\n",
       "       [-1.53046739e-02, -2.96322527e-01],\n",
       "       [ 5.79127477e-02, -2.92569525e-01],\n",
       "       [ 2.41091000e-01, -5.04482664e-01],\n",
       "       [ 4.26195940e-01, -1.77825091e-01],\n",
       "       [ 2.54367442e-01,  1.21898172e-01],\n",
       "       [ 1.37001274e-01, -1.30481631e-01],\n",
       "       [ 4.45953047e-02, -7.23251563e-01],\n",
       "       [-1.55038628e-01, -3.62909648e-01]])"
      ]
     },
     "execution_count": 97,
     "metadata": {},
     "output_type": "execute_result"
    }
   ],
   "source": [
    "X_reduced"
   ]
  },
  {
   "cell_type": "code",
   "execution_count": 99,
   "id": "4de74c83-27de-46ec-91d9-13a926943386",
   "metadata": {},
   "outputs": [
    {
     "data": {
      "image/png": "[encoded data removed]",
      "text/plain": [
       "<Figure size 800x600 with 1 Axes>"
      ]
     },
     "metadata": {},
     "output_type": "display_data"
    }
   ],
   "source": [
    "plt.figure(figsize=(8, 6))\n",
    "sns.scatterplot(x=X_reduced[:, 0], y=X_reduced[:, 1], hue=y, palette='Set1')\n",
    "plt.xlabel('Principal Component 1')\n",
    "plt.ylabel('Principal Component 2')\n",
    "plt.title('PCA: Iris Dataset Projection onto First 2 Principal Components')\n",
    "plt.grid(True)\n",
    "plt.show()\n"
   ]
  },
  {
   "cell_type": "code",
   "execution_count": 102,
   "id": "61ce3401-91ef-4b4b-aad6-ef7292f15100",
   "metadata": {},
   "outputs": [
    {
     "name": "stdout",
     "output_type": "stream",
     "text": [
      "Explained Variance Ratio: [0.92461872 0.05306648 0.01710261 0.00521218]\n",
      "Cumulative Explained Variance (2 components): 0.977685206318795\n"
     ]
    }
   ],
   "source": [
    "# Step 8: Explained Variance Ratio\n",
    "explained_variance_ratio = eigenvalue / np.sum(eigenvalue)\n",
    "print(\"Explained Variance Ratio:\", explained_variance_ratio)\n",
    "print(\"Cumulative Explained Variance (2 components):\", np.sum(explained_variance_ratio[:2]))\n"
   ]
  },
  {
   "cell_type": "code",
   "execution_count": null,
   "id": "878ad431-6fb1-44ad-9f1e-d271428bfe5b",
   "metadata": {},
   "outputs": [],
   "source": []
  }
 ],
 "metadata": {
  "kernelspec": {
   "display_name": "Python 3 (ipykernel)",
   "language": "python",
   "name": "python3"
  },
  "language_info": {
   "codemirror_mode": {
    "name": "ipython",
    "version": 3
   },
   "file_extension": ".py",
   "mimetype": "text/x-python",
   "name": "python",
   "nbconvert_exporter": "python",
   "pygments_lexer": "ipython3",
   "version": "3.13.0"
  }
 },
 "nbformat": 4,
 "nbformat_minor": 5
}
