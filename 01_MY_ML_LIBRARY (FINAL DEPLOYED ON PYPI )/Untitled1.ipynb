{
 "cells": [
  {
   "cell_type": "code",
   "execution_count": 1,
   "id": "f88ab714-fac3-4912-8087-837ed00e2527",
   "metadata": {},
   "outputs": [
    {
     "ename": "AttributeError",
     "evalue": "module 'algonix' has no attribute '__version__'",
     "output_type": "error",
     "traceback": [
      "\u001b[1;31m---------------------------------------------------------------------------\u001b[0m",
      "\u001b[1;31mAttributeError\u001b[0m                            Traceback (most recent call last)",
      "Cell \u001b[1;32mIn[1], line 3\u001b[0m\n\u001b[0;32m      1\u001b[0m \u001b[38;5;28;01mimport\u001b[39;00m \u001b[38;5;21;01malgonix\u001b[39;00m\n\u001b[1;32m----> 3\u001b[0m \u001b[43malgonix\u001b[49m\u001b[38;5;241;43m.\u001b[39;49m\u001b[43m__version__\u001b[49m  \u001b[38;5;66;03m# or test any module/class inside it\u001b[39;00m\n",
      "\u001b[1;31mAttributeError\u001b[0m: module 'algonix' has no attribute '__version__'"
     ]
    }
   ],
   "source": [
    "import algonix\n",
    "\n",
    "algonix.__version__  # or test any module/class inside it\n"
   ]
  },
  {
   "cell_type": "code",
   "execution_count": null,
   "id": "20532deb-bfbf-4670-b312-1a12d5c85bc9",
   "metadata": {},
   "outputs": [],
   "source": []
  }
 ],
 "metadata": {
  "kernelspec": {
   "display_name": "Python (algonix-env)",
   "language": "python",
   "name": "algonix-env"
  },
  "language_info": {
   "codemirror_mode": {
    "name": "ipython",
    "version": 3
   },
   "file_extension": ".py",
   "mimetype": "text/x-python",
   "name": "python",
   "nbconvert_exporter": "python",
   "pygments_lexer": "ipython3",
   "version": "3.13.0"
  }
 },
 "nbformat": 4,
 "nbformat_minor": 5
}
