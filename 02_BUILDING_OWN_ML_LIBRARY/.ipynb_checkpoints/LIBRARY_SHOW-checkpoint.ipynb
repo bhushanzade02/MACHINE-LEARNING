{
 "cells": [
  {
   "cell_type": "code",
   "execution_count": 26,
   "id": "b145128b-c8e5-4ef3-9c3e-3fc4d0b7dfba",
   "metadata": {},
   "outputs": [
    {
     "name": "stdout",
     "output_type": "stream",
     "text": [
      "Name: my_ml_library\n",
      "Version: 0.1.1\n",
      "Summary: A simple machine learning library with regression models and metrics.\n",
      "Home-page: https://github.com/bhushanzade02\n",
      "Author: Bhushan Zade\n",
      "Author-email: bhushanzade02@gmail.com\n",
      "License: \n",
      "Location: C:\\Users\\bhush\\AppData\\Local\\Programs\\Python\\Python313\\Lib\\site-packages\n",
      "Editable project location: D:\\16_MACHINE_LEARNING\\01_MY_ML_LIBRARY (FINAL DEPLOYED ON PYPI )\n",
      "Requires: numpy, scipy\n",
      "Required-by: \n",
      "Note: you may need to restart the kernel to use updated packages.\n"
     ]
    }
   ],
   "source": [
    "pip show my_ml_library"
   ]
  },
  {
   "cell_type": "code",
   "execution_count": 28,
   "id": "ad322a65-aacd-43bd-9d05-997c9fe24695",
   "metadata": {},
   "outputs": [],
   "source": [
    "import pandas as pd\n",
    "import numpy as np\n",
    "import matplotlib.pyplot as plt"
   ]
  },
  {
   "cell_type": "code",
   "execution_count": 29,
   "id": "d7e611d3-6138-441d-90db-bff40879591f",
   "metadata": {},
   "outputs": [
    {
     "name": "stdout",
     "output_type": "stream",
     "text": [
      "<module 'my_ml_library' from 'D:\\\\16_MACHINE_LEARNING\\\\01_MY_ML_LIBRARY (FINAL DEPLOYED ON PYPI )\\\\my_ml_library\\\\__init__.py'>\n"
     ]
    }
   ],
   "source": [
    "import my_ml_library\n",
    "print(my_ml_library)\n"
   ]
  },
  {
   "cell_type": "code",
   "execution_count": 41,
   "id": "46395221-6e7f-4fad-b2af-f1d1cbad8959",
   "metadata": {},
   "outputs": [],
   "source": [
    "from my_ml_library import SimpleLinearRegression, MultipleLinearRegression, LogisticRegression, RidgeRegression, LassoRegression\n",
    "from my_ml_library.metrics import mean_squared_error, mean_absolute_error, root_mean_squared_error, r2_score, adjusted_r2_score\n",
    "from my_ml_library.optimizers import GradientDescent, StochasticGradientDescent"
   ]
  },
  {
   "cell_type": "code",
   "execution_count": 31,
   "id": "5d77662c-12f5-4c48-9af6-b7ae342c8154",
   "metadata": {},
   "outputs": [],
   "source": [
    "from my_ml_library import SimpleLinearRegression"
   ]
  },
  {
   "cell_type": "code",
   "execution_count": null,
   "id": "98e7c0c1-d268-455e-8ce0-d59343e3b3e1",
   "metadata": {},
   "outputs": [],
   "source": []
  },
  {
   "cell_type": "code",
   "execution_count": null,
   "id": "1efb126e-15e1-4e32-ba78-84a7229bad2c",
   "metadata": {},
   "outputs": [],
   "source": [
    "SW"
   ]
  },
  {
   "cell_type": "markdown",
   "id": "1ea59385-3920-4482-bea3-99698002df30",
   "metadata": {},
   "source": [
    "# SIMPLE LINEAR REGRESSION THROUGH CUSTOM LIBRARY"
   ]
  },
  {
   "cell_type": "code",
   "execution_count": 32,
   "id": "875c8b9d-0d21-469b-9844-85b6101ee125",
   "metadata": {},
   "outputs": [],
   "source": [
    "from my_ml_library import SimpleLinearRegression"
   ]
  },
  {
   "cell_type": "code",
   "execution_count": 33,
   "id": "afb17a64-7d98-47c5-a558-024f1cbb0278",
   "metadata": {},
   "outputs": [],
   "source": [
    "df=pd.read_csv(R\"D:\\16_MACHINE_LEARNING\\03_MACHINE_LEARNING_USING_PYTHON\\placement_cgpa_pcakge.csv\")"
   ]
  },
  {
   "cell_type": "code",
   "execution_count": 35,
   "id": "8093b271-b673-4548-8db3-4360435adc7e",
   "metadata": {},
   "outputs": [],
   "source": [
    "X=df.iloc[:,0:1]\n",
    "y=df.iloc[:,-1]\n",
    "from sklearn.model_selection import train_test_split\n",
    "X_train,X_test,y_train,y_test=train_test_split(X,y,test_size=0.2,random_state=2)\n",
    "slr=SimpleLinearRegression()\n",
    "slr.fit(X_train,y_train)\n",
    "y_pred=slr.predict(X_test)"
   ]
  },
  {
   "cell_type": "code",
   "execution_count": 36,
   "id": "f1262447-b162-4d23-b6c1-6f7ad8b945de",
   "metadata": {},
   "outputs": [
    {
     "name": "stdout",
     "output_type": "stream",
     "text": [
      "R2 SCORE : 0.780730147510384\n",
      "MEAN ABSOLUTE ERROR : 0.2884710931878175\n",
      "MEAN SQUARED ERROR  : 0.12129235313495527\n",
      "ROOT MEAN SQUARED ERROR  : 0.34827051717731616\n"
     ]
    }
   ],
   "source": [
    "from my_ml_library.metrics import r2_score,mean_absolute_error,mean_squared_error,root_mean_squared_error\n",
    "print(\"R2 SCORE :\",r2_score(y_test,y_pred))\n",
    "print(\"MEAN ABSOLUTE ERROR :\",mean_absolute_error(y_test,y_pred))\n",
    "print(\"MEAN SQUARED ERROR  :\",mean_squared_error(y_test,y_pred))\n",
    "print(\"ROOT MEAN SQUARED ERROR  :\",root_mean_squared_error(y_test,y_pred))"
   ]
  },
  {
   "cell_type": "code",
   "execution_count": null,
   "id": "d81c8665-6f3b-42c1-bdf1-2ad277453870",
   "metadata": {},
   "outputs": [],
   "source": []
  },
  {
   "cell_type": "code",
   "execution_count": null,
   "id": "a8c8185a-4432-4750-92ca-0e6ac5d9ca6a",
   "metadata": {},
   "outputs": [],
   "source": []
  },
  {
   "cell_type": "code",
   "execution_count": null,
   "id": "b1f9de9a-88ad-439f-87b3-6252086bdddd",
   "metadata": {},
   "outputs": [],
   "source": []
  },
  {
   "cell_type": "markdown",
   "id": "6c0c5dca-f22f-4f4c-a6a8-4a775f0a3348",
   "metadata": {},
   "source": [
    "# SIMPLE LINEAR REGRESSION THROUGH SCIKIT LIBRARY"
   ]
  },
  {
   "cell_type": "code",
   "execution_count": 38,
   "id": "e77b0db3-6233-41df-8059-3caf3a49eb1c",
   "metadata": {},
   "outputs": [],
   "source": [
    "df=pd.read_csv(R\"D:\\16_MACHINE_LEARNING\\03_MACHINE_LEARNING_USING_PYTHON\\placement_cgpa_pcakge.csv\")\n",
    "X=df.iloc[:,0:1]\n",
    "y=df.iloc[:,-1]\n",
    "from sklearn.model_selection import train_test_split\n",
    "X_train,X_test,y_train,y_test=train_test_split(X,y,test_size=0.2,random_state=2)\n",
    "from sklearn.linear_model import LinearRegression\n",
    "lr=LinearRegression()\n",
    "lr.fit(X_train,y_train)\n",
    "y_pred=lr.predict(X_test)"
   ]
  },
  {
   "cell_type": "code",
   "execution_count": 39,
   "id": "4f3b510b-6be4-4ac6-b72f-df9d621c6fcf",
   "metadata": {},
   "outputs": [
    {
     "name": "stdout",
     "output_type": "stream",
     "text": [
      "R2 SCORE : 0.780730147510384\n",
      "MEAN ABSOLUTE ERROR : 0.2884710931878175\n",
      "MEAN SQUARED ERROR  : 0.12129235313495527\n",
      "ROOT MEAN SQUARED ERROR  : 0.34827051717731616\n"
     ]
    }
   ],
   "source": [
    "from sklearn.metrics import r2_score,mean_absolute_error,mean_squared_error,root_mean_squared_error\n",
    "print(\"R2 SCORE :\",r2_score(y_test,y_pred))\n",
    "print(\"MEAN ABSOLUTE ERROR :\",mean_absolute_error(y_test,y_pred))\n",
    "print(\"MEAN SQUARED ERROR  :\",mean_squared_error(y_test,y_pred))\n",
    "print(\"ROOT MEAN SQUARED ERROR  :\",root_mean_squared_error(y_test,y_pred))"
   ]
  },
  {
   "cell_type": "code",
   "execution_count": null,
   "id": "41d2d644-9fcd-46de-872e-7bd9a4001639",
   "metadata": {},
   "outputs": [],
   "source": []
  },
  {
   "cell_type": "code",
   "execution_count": null,
   "id": "cae1877b-f0c5-46b4-be04-f1c4f61ed25e",
   "metadata": {},
   "outputs": [],
   "source": []
  },
  {
   "cell_type": "code",
   "execution_count": null,
   "id": "325a9048-f614-4f12-aaed-eb116d55cd7e",
   "metadata": {},
   "outputs": [],
   "source": []
  },
  {
   "cell_type": "markdown",
   "id": "2b1082d0-e85b-4474-a6fe-698cf2cd1aca",
   "metadata": {},
   "source": [
    "# MULTIPLE LINEAR REGRESSION THROUGH CUSTOM LIBRARY"
   ]
  },
  {
   "cell_type": "markdown",
   "id": "d71a53d3-1fb4-4b2c-928d-654ee325355b",
   "metadata": {},
   "source": [
    "# MULTIPLE LINEAR REGRESSION THROUGH SCIKIT LIBRARY"
   ]
  },
  {
   "cell_type": "code",
   "execution_count": null,
   "id": "aca0f76a-8eee-448c-931e-6f176cef7732",
   "metadata": {},
   "outputs": [],
   "source": []
  }
 ],
 "metadata": {
  "kernelspec": {
   "display_name": "Python 3 (ipykernel)",
   "language": "python",
   "name": "python3"
  },
  "language_info": {
   "codemirror_mode": {
    "name": "ipython",
    "version": 3
   },
   "file_extension": ".py",
   "mimetype": "text/x-python",
   "name": "python",
   "nbconvert_exporter": "python",
   "pygments_lexer": "ipython3",
   "version": "3.13.0"
  }
 },
 "nbformat": 4,
 "nbformat_minor": 5
}
