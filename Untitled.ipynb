{
 "cells": [
  {
   "cell_type": "code",
   "execution_count": 1,
   "id": "38f99e15-fd01-43ef-9383-6b8dff5ad0ec",
   "metadata": {},
   "outputs": [],
   "source": [
    "from algonix.models import SimpleLinearRegression"
   ]
  },
  {
   "cell_type": "code",
   "execution_count": 2,
   "id": "1dfda1bd-0ef4-4e89-8499-f7da31c4904d",
   "metadata": {},
   "outputs": [],
   "source": [
    "import algonix"
   ]
  },
  {
   "cell_type": "code",
   "execution_count": 9,
   "id": "33a13c5e-308f-4965-9c27-ac3a4344eb3c",
   "metadata": {},
   "outputs": [
    {
     "name": "stdout",
     "output_type": "stream",
     "text": [
      "0.1.1\n"
     ]
    }
   ],
   "source": [
    "import algonix\n",
    "print(algonix.__version__)  # Should print 0.1.1\n"
   ]
  },
  {
   "cell_type": "code",
   "execution_count": 8,
   "id": "e2e3ecc5-80a7-4aa4-8fa2-e4dd2782cbed",
   "metadata": {},
   "outputs": [
    {
     "name": "stdout",
     "output_type": "stream",
     "text": [
      "Predictions for [6, 7]: [12. 14.]\n"
     ]
    }
   ],
   "source": [
    "# Top-level import if exposed in __init__.py\n",
    "from algonix.models import SimpleLinearRegression\n",
    "from algonix.metrics import mean_squared_error\n",
    "\n",
    "\n",
    "\n",
    "import numpy as np\n",
    "import matplotlib.pyplot as plt\n",
    "\n",
    "# Sample training data\n",
    "X_train = np.array([1, 2, 3, 4, 5]).reshape(-1, 1)\n",
    "y_train = np.array([2, 4, 6, 8, 10])\n",
    "\n",
    "# Initialize and train the model\n",
    "model = SimpleLinearRegression()\n",
    "model.fit(X_train, y_train)\n",
    "\n",
    "# Make predictions\n",
    "X_test = np.array([6, 7]).reshape(-1, 1)\n",
    "predictions = model.predict(X_test)\n",
    "\n",
    "print(\"Predictions for [6, 7]:\", predictions)\n",
    "\n",
    "\n",
    "# # Use it\n",
    "# model = SimpleLinearRegression()\n",
    "# model.fit(X_train, y_train)\n",
    "# preds = model.predict(X_test)\n",
    "# mse = mean_squared_error(y_test, preds)\n",
    "# print(f\"MSE: {mse}\")\n"
   ]
  },
  {
   "cell_type": "code",
   "execution_count": null,
   "id": "e1ac7148-7d83-4d13-a3ea-576226a00fcb",
   "metadata": {},
   "outputs": [],
   "source": []
  }
 ],
 "metadata": {
  "kernelspec": {
   "display_name": "Python 3 (ipykernel)",
   "language": "python",
   "name": "python3"
  },
  "language_info": {
   "codemirror_mode": {
    "name": "ipython",
    "version": 3
   },
   "file_extension": ".py",
   "mimetype": "text/x-python",
   "name": "python",
   "nbconvert_exporter": "python",
   "pygments_lexer": "ipython3",
   "version": "3.13.0"
  }
 },
 "nbformat": 4,
 "nbformat_minor": 5
}
